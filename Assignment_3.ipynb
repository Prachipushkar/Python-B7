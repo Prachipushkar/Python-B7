{
  "nbformat": 4,
  "nbformat_minor": 0,
  "metadata": {
    "colab": {
      "name": "Assignment 3.ipynb",
      "provenance": [],
      "authorship_tag": "ABX9TyMnX+LryXn8kvT4yaROm69F",
      "include_colab_link": true
    },
    "kernelspec": {
      "name": "python3",
      "display_name": "Python 3"
    }
  },
  "cells": [
    {
      "cell_type": "markdown",
      "metadata": {
        "id": "view-in-github",
        "colab_type": "text"
      },
      "source": [
        "<a href=\"https://colab.research.google.com/github/Prachipushkar/Python-B7/blob/master/Assignment_3.ipynb\" target=\"_parent\"><img src=\"https://colab.research.google.com/assets/colab-badge.svg\" alt=\"Open In Colab\"/></a>"
      ]
    },
    {
      "cell_type": "code",
      "metadata": {
        "id": "DJGQKgW4ln_G",
        "colab_type": "code",
        "colab": {
          "base_uri": "https://localhost:8080/",
          "height": 34
        },
        "outputId": "4e0df7ad-4cce-4eee-c317-2fb8f81d787a"
      },
      "source": [
        "for num in range(100,1000): \n",
        "   temp=num\n",
        "   sum=0\n",
        "   while temp>0:\n",
        "     r=temp%10\n",
        "     sum=sum+r**3\n",
        "     temp=temp//10\n",
        "   if sum==num:\n",
        "      print ('The armstrong num is' ,num)\n",
        "      break    \n",
        "           \n",
        "           \n",
        "           \n"
      ],
      "execution_count": 38,
      "outputs": [
        {
          "output_type": "stream",
          "text": [
            "The armstrong num is 153\n"
          ],
          "name": "stdout"
        }
      ]
    },
    {
      "cell_type": "code",
      "metadata": {
        "id": "Go5ntQXaj0N7",
        "colab_type": "code",
        "colab": {}
      },
      "source": [
        "# the range provided in question was not acceptable in google collab hence taken 100-1000 range.Please consider\n"
      ],
      "execution_count": 1,
      "outputs": []
    }
  ]
}