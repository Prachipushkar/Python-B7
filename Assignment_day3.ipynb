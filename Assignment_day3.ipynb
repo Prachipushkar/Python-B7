{
  "nbformat": 4,
  "nbformat_minor": 0,
  "metadata": {
    "colab": {
      "name": "Assignment day3.ipynb",
      "provenance": [],
      "authorship_tag": "ABX9TyOry9LZlyNL3gxxEgmwlB/2",
      "include_colab_link": true
    },
    "kernelspec": {
      "name": "python3",
      "display_name": "Python 3"
    }
  },
  "cells": [
    {
      "cell_type": "markdown",
      "metadata": {
        "id": "view-in-github",
        "colab_type": "text"
      },
      "source": [
        "<a href=\"https://colab.research.google.com/github/Prachipushkar/Python-B7/blob/master/Assignment_day3.ipynb\" target=\"_parent\"><img src=\"https://colab.research.google.com/assets/colab-badge.svg\" alt=\"Open In Colab\"/></a>"
      ]
    },
    {
      "cell_type": "code",
      "metadata": {
        "id": "WJsvJC_j5lkf",
        "colab_type": "code",
        "colab": {
          "base_uri": "https://localhost:8080/",
          "height": 51
        },
        "outputId": "38a927d2-59b1-41af-ce3c-131d6bdf5b92"
      },
      "source": [
        "Alt = int(input(\" Enter Altitude\"))\n",
        "if Alt <= 1000:\n",
        "  print(\" Safe to Land\")\n",
        "elif Alt <= 5000:\n",
        "  print(\" come down to 1000\") \n",
        "else:\n",
        "  print(\"Turn around\")\n"
      ],
      "execution_count": null,
      "outputs": [
        {
          "output_type": "stream",
          "text": [
            " Enter Altitude6000\n",
            "Turn around\n"
          ],
          "name": "stdout"
        }
      ]
    },
    {
      "cell_type": "code",
      "metadata": {
        "id": "OojnUwyMeTid",
        "colab_type": "code",
        "colab": {}
      },
      "source": [
        ""
      ],
      "execution_count": null,
      "outputs": []
    },
    {
      "cell_type": "code",
      "metadata": {
        "id": "xQUPUxvtEAWF",
        "colab_type": "code",
        "colab": {
          "base_uri": "https://localhost:8080/",
          "height": 51
        },
        "outputId": "142415e0-3792-4558-983d-96cd7aa309ef"
      },
      "source": [
        "Alt = int(input(\" Enter Altitude\"))\n",
        "if Alt <= 1000:\n",
        "  print(\" Safe to Land\")\n",
        "elif Alt <= 5000:\n",
        "  print(\" come down to 1000\") \n",
        "else:\n",
        "  print(\"Turn around\")"
      ],
      "execution_count": null,
      "outputs": [
        {
          "output_type": "stream",
          "text": [
            " Enter Altitude1000\n",
            " Safe to Land\n"
          ],
          "name": "stdout"
        }
      ]
    },
    {
      "cell_type": "code",
      "metadata": {
        "id": "U84uhMKfEPJd",
        "colab_type": "code",
        "colab": {
          "base_uri": "https://localhost:8080/",
          "height": 51
        },
        "outputId": "ab4da860-38b5-4dd7-e673-d7a07cf96487"
      },
      "source": [
        "Alt = int(input(\" Enter Altitude\"))\n",
        "if Alt <= 1000:\n",
        "  print(\" Safe to Land\")\n",
        "elif Alt <= 5000:\n",
        "  print(\" come down to 1000\") \n",
        "else:\n",
        "  print(\"Turn around\")"
      ],
      "execution_count": null,
      "outputs": [
        {
          "output_type": "stream",
          "text": [
            " Enter Altitude4500\n",
            " come down to 1000\n"
          ],
          "name": "stdout"
        }
      ]
    },
    {
      "cell_type": "code",
      "metadata": {
        "id": "O_4PA0KKeWIV",
        "colab_type": "code",
        "colab": {
          "base_uri": "https://localhost:8080/",
          "height": 54
        },
        "outputId": "ff90cef0-2a52-4311-c896-de219b8758c1"
      },
      "source": [
        "#Using for loop print all prime number between 1-200 using for loop and range function\n",
        "for i in range(1, 200 + 1):\n",
        "   \n",
        "    if i > 1:\n",
        "    \n",
        "        for j in range(2, i):\n",
        "        \n",
        "            if (i % j) == 0:\n",
        "                \n",
        "                break\n",
        "        else:\n",
        "    \n",
        "            print(i,end=\", \")"
      ],
      "execution_count": 1,
      "outputs": [
        {
          "output_type": "stream",
          "text": [
            "2, 3, 5, 7, 11, 13, 17, 19, 23, 29, 31, 37, 41, 43, 47, 53, 59, 61, 67, 71, 73, 79, 83, 89, 97, 101, 103, 107, 109, 113, 127, 131, 137, 139, 149, 151, 157, 163, 167, 173, 179, 181, 191, 193, 197, 199, "
          ],
          "name": "stdout"
        }
      ]
    }
  ]
}