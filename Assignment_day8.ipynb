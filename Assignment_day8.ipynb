{
  "nbformat": 4,
  "nbformat_minor": 0,
  "metadata": {
    "colab": {
      "name": "Assignment day8.ipynb",
      "provenance": [],
      "authorship_tag": "ABX9TyMIWcv+EouoN384TNCfVmr3",
      "include_colab_link": true
    },
    "kernelspec": {
      "name": "python3",
      "display_name": "Python 3"
    }
  },
  "cells": [
    {
      "cell_type": "markdown",
      "metadata": {
        "id": "view-in-github",
        "colab_type": "text"
      },
      "source": [
        "<a href=\"https://colab.research.google.com/github/Prachipushkar/Python-B7/blob/master/Assignment_day8.ipynb\" target=\"_parent\"><img src=\"https://colab.research.google.com/assets/colab-badge.svg\" alt=\"Open In Colab\"/></a>"
      ]
    },
    {
      "cell_type": "code",
      "metadata": {
        "id": "Mw5lvwPYT3QZ",
        "colab_type": "code",
        "colab": {
          "base_uri": "https://localhost:8080/",
          "height": 34
        },
        "outputId": "8e30fc83-3b92-42ea-d0dc-8c78a89cd221"
      },
      "source": [
        "def first_factorial(f): \n",
        "    memory = {} \n",
        "    def inner(num): \n",
        "        if num not in memory:          \n",
        "            memory[num] = f(num) \n",
        "        return memory[num] \n",
        "  \n",
        "    return inner \n",
        "      \n",
        "@first_factorial\n",
        "def facto(num): \n",
        "    if num == 1: \n",
        "        return 1\n",
        "    else: \n",
        "        return num * facto(num-1) \n",
        "  \n",
        "print(facto(5)) "
      ],
      "execution_count": 6,
      "outputs": [
        {
          "output_type": "stream",
          "text": [
            "120\n"
          ],
          "name": "stdout"
        }
      ]
    },
    {
      "cell_type": "code",
      "metadata": {
        "id": "RPsa6_262Sz1",
        "colab_type": "code",
        "colab": {}
      },
      "source": [
        "#write a program to open a file in read only mode and try writing something to it and handle the subsequent errors using exception handling"
      ],
      "execution_count": null,
      "outputs": []
    },
    {
      "cell_type": "code",
      "metadata": {
        "id": "fXpHGKnH3uxy",
        "colab_type": "code",
        "colab": {}
      },
      "source": [
        "f= open(\"file.txt\",\"w+\")\n",
        "for i in range(10):\n",
        "     f.write(\"This is line %d\\r\\n\" % (i+1))\n",
        "f.close() \n"
      ],
      "execution_count": 10,
      "outputs": []
    },
    {
      "cell_type": "code",
      "metadata": {
        "id": "IabUSll16_Rw",
        "colab_type": "code",
        "colab": {
          "base_uri": "https://localhost:8080/",
          "height": 34
        },
        "outputId": "10c9b64c-90b7-42d9-d9b1-fbb3c6cf9c96"
      },
      "source": [
        "try:\n",
        "   fob = open(\"file\", \"r\")\n",
        "   fob.write(\"It's my test file to verify exception handling in Python!!\")\n",
        "except IOError:\n",
        "   print (\"Error: can\\'t find the file or read data\")\n",
        "else:\n",
        "   print (\"Write operation is performed successfully on the file\")"
      ],
      "execution_count": 12,
      "outputs": [
        {
          "output_type": "stream",
          "text": [
            "Error: can't find the file or read data\n"
          ],
          "name": "stdout"
        }
      ]
    }
  ]
}