{
  "nbformat": 4,
  "nbformat_minor": 0,
  "metadata": {
    "colab": {
      "name": "Assignment day9.ipynb",
      "provenance": [],
      "authorship_tag": "ABX9TyOxLQ8JPaCp10rgDprBmI2G",
      "include_colab_link": true
    },
    "kernelspec": {
      "name": "python3",
      "display_name": "Python 3"
    }
  },
  "cells": [
    {
      "cell_type": "markdown",
      "metadata": {
        "id": "view-in-github",
        "colab_type": "text"
      },
      "source": [
        "<a href=\"https://colab.research.google.com/github/Prachipushkar/Python-B7/blob/master/Assignment_day9.ipynb\" target=\"_parent\"><img src=\"https://colab.research.google.com/assets/colab-badge.svg\" alt=\"Open In Colab\"/></a>"
      ]
    },
    {
      "cell_type": "code",
      "metadata": {
        "id": "1HJNcKW38S9W",
        "colab_type": "code",
        "colab": {}
      },
      "source": [
        "\n",
        "# Generator to generate armstrong number\n",
        "lst = list(range(1,1000+1))\n",
        "def armstrong(lst):    \n",
        "    for num in lst:\n",
        "        s = 0\n",
        "        temp = num\n",
        "        while temp > 0:\n",
        "            d = temp % 10\n",
        "            s += d ** 3\n",
        "            temp //= 10\n",
        "        if num == s:\n",
        "            yield num"
      ],
      "execution_count": 2,
      "outputs": []
    },
    {
      "cell_type": "code",
      "metadata": {
        "id": "FkY0V6wZiNSN",
        "colab_type": "code",
        "colab": {
          "base_uri": "https://localhost:8080/",
          "height": 34
        },
        "outputId": "fed9ac7d-5e34-4377-d009-dc8c8c1cfdee"
      },
      "source": [
        "list(armstrong(lst))"
      ],
      "execution_count": 3,
      "outputs": [
        {
          "output_type": "execute_result",
          "data": {
            "text/plain": [
              "[1, 153, 370, 371, 407]"
            ]
          },
          "metadata": {
            "tags": []
          },
          "execution_count": 3
        }
      ]
    },
    {
      "cell_type": "code",
      "metadata": {
        "id": "qpjxk1rsiy4T",
        "colab_type": "code",
        "colab": {
          "base_uri": "https://localhost:8080/",
          "height": 411
        },
        "outputId": "87a97795-b08b-4d55-949b-af507110551a"
      },
      "source": [
        "! pip install pylint"
      ],
      "execution_count": 4,
      "outputs": [
        {
          "output_type": "stream",
          "text": [
            "Collecting pylint\n",
            "\u001b[?25l  Downloading https://files.pythonhosted.org/packages/fb/13/519c1264a134beab2be4bac8dd3e64948980a5ca7833b31cf0255b21f20a/pylint-2.6.0-py3-none-any.whl (325kB)\n",
            "\r\u001b[K     |█                               | 10kB 12.9MB/s eta 0:00:01\r\u001b[K     |██                              | 20kB 3.3MB/s eta 0:00:01\r\u001b[K     |███                             | 30kB 4.6MB/s eta 0:00:01\r\u001b[K     |████                            | 40kB 4.8MB/s eta 0:00:01\r\u001b[K     |█████                           | 51kB 4.0MB/s eta 0:00:01\r\u001b[K     |██████                          | 61kB 4.1MB/s eta 0:00:01\r\u001b[K     |███████                         | 71kB 4.7MB/s eta 0:00:01\r\u001b[K     |████████                        | 81kB 5.0MB/s eta 0:00:01\r\u001b[K     |█████████                       | 92kB 5.4MB/s eta 0:00:01\r\u001b[K     |██████████                      | 102kB 5.2MB/s eta 0:00:01\r\u001b[K     |███████████                     | 112kB 5.2MB/s eta 0:00:01\r\u001b[K     |████████████                    | 122kB 5.2MB/s eta 0:00:01\r\u001b[K     |█████████████                   | 133kB 5.2MB/s eta 0:00:01\r\u001b[K     |██████████████                  | 143kB 5.2MB/s eta 0:00:01\r\u001b[K     |███████████████                 | 153kB 5.2MB/s eta 0:00:01\r\u001b[K     |████████████████                | 163kB 5.2MB/s eta 0:00:01\r\u001b[K     |█████████████████               | 174kB 5.2MB/s eta 0:00:01\r\u001b[K     |██████████████████              | 184kB 5.2MB/s eta 0:00:01\r\u001b[K     |███████████████████▏            | 194kB 5.2MB/s eta 0:00:01\r\u001b[K     |████████████████████▏           | 204kB 5.2MB/s eta 0:00:01\r\u001b[K     |█████████████████████▏          | 215kB 5.2MB/s eta 0:00:01\r\u001b[K     |██████████████████████▏         | 225kB 5.2MB/s eta 0:00:01\r\u001b[K     |███████████████████████▏        | 235kB 5.2MB/s eta 0:00:01\r\u001b[K     |████████████████████████▏       | 245kB 5.2MB/s eta 0:00:01\r\u001b[K     |█████████████████████████▏      | 256kB 5.2MB/s eta 0:00:01\r\u001b[K     |██████████████████████████▏     | 266kB 5.2MB/s eta 0:00:01\r\u001b[K     |███████████████████████████▏    | 276kB 5.2MB/s eta 0:00:01\r\u001b[K     |████████████████████████████▏   | 286kB 5.2MB/s eta 0:00:01\r\u001b[K     |█████████████████████████████▏  | 296kB 5.2MB/s eta 0:00:01\r\u001b[K     |██████████████████████████████▏ | 307kB 5.2MB/s eta 0:00:01\r\u001b[K     |███████████████████████████████▏| 317kB 5.2MB/s eta 0:00:01\r\u001b[K     |████████████████████████████████| 327kB 5.2MB/s \n",
            "\u001b[?25hCollecting mccabe<0.7,>=0.6\n",
            "  Downloading https://files.pythonhosted.org/packages/87/89/479dc97e18549e21354893e4ee4ef36db1d237534982482c3681ee6e7b57/mccabe-0.6.1-py2.py3-none-any.whl\n",
            "Requirement already satisfied: toml>=0.7.1 in /usr/local/lib/python3.6/dist-packages (from pylint) (0.10.1)\n",
            "Collecting isort<6,>=4.2.5\n",
            "\u001b[?25l  Downloading https://files.pythonhosted.org/packages/d1/25/7ed95ccb07d3ce52598f5a57d002da6a18074ea8749991b10936cc20e539/isort-5.5.2-py3-none-any.whl (95kB)\n",
            "\u001b[K     |████████████████████████████████| 102kB 6.8MB/s \n",
            "\u001b[?25hCollecting astroid<=2.5,>=2.4.0\n",
            "\u001b[?25l  Downloading https://files.pythonhosted.org/packages/24/a8/5133f51967fb21e46ee50831c3f5dda49e976b7f915408d670b1603d41d6/astroid-2.4.2-py3-none-any.whl (213kB)\n",
            "\u001b[K     |████████████████████████████████| 215kB 16.1MB/s \n",
            "\u001b[?25hCollecting lazy-object-proxy==1.4.*\n",
            "\u001b[?25l  Downloading https://files.pythonhosted.org/packages/0b/dd/b1e3407e9e6913cf178e506cd0dee818e58694d9a5cd1984e3f6a8b9a10f/lazy_object_proxy-1.4.3-cp36-cp36m-manylinux1_x86_64.whl (55kB)\n",
            "\u001b[K     |████████████████████████████████| 61kB 7.7MB/s \n",
            "\u001b[?25hRequirement already satisfied: wrapt~=1.11 in /usr/local/lib/python3.6/dist-packages (from astroid<=2.5,>=2.4.0->pylint) (1.12.1)\n",
            "Requirement already satisfied: six~=1.12 in /usr/local/lib/python3.6/dist-packages (from astroid<=2.5,>=2.4.0->pylint) (1.15.0)\n",
            "Collecting typed-ast<1.5,>=1.4.0; implementation_name == \"cpython\" and python_version < \"3.8\"\n",
            "\u001b[?25l  Downloading https://files.pythonhosted.org/packages/90/ed/5459080d95eb87a02fe860d447197be63b6e2b5e9ff73c2b0a85622994f4/typed_ast-1.4.1-cp36-cp36m-manylinux1_x86_64.whl (737kB)\n",
            "\u001b[K     |████████████████████████████████| 747kB 18.4MB/s \n",
            "\u001b[?25hInstalling collected packages: mccabe, isort, lazy-object-proxy, typed-ast, astroid, pylint\n",
            "Successfully installed astroid-2.4.2 isort-5.5.2 lazy-object-proxy-1.4.3 mccabe-0.6.1 pylint-2.6.0 typed-ast-1.4.1\n"
          ],
          "name": "stdout"
        }
      ]
    },
    {
      "cell_type": "code",
      "metadata": {
        "id": "Vq_NPtSwkDb-",
        "colab_type": "code",
        "colab": {
          "base_uri": "https://localhost:8080/",
          "height": 34
        },
        "outputId": "ec2cd4d0-9588-4369-f81d-c1d2182f1fef"
      },
      "source": [
        "%%writefile prime.py\n",
        "\n",
        "'''\n",
        "Creating a python file for finding whether the given number is prime number or not.\n",
        "'''\n",
        "\n",
        "def is_prime(given_no):\n",
        "    '''\n",
        "    function to check for prime number.\n",
        "    '''\n",
        "    if given_no >= 1:\n",
        "        for i in range(2, given_no):\n",
        "            if (given_no % i) == 0:\n",
        "                final_result=\"Not Prime\"\n",
        "            else:\n",
        "                final_result=\"Prime\"\n",
        "    else:\n",
        "        final_result=\"Not Prime\"\n",
        "    return final_result\n",
        "    "
      ],
      "execution_count": 7,
      "outputs": [
        {
          "output_type": "stream",
          "text": [
            "Overwriting prime.py\n"
          ],
          "name": "stdout"
        }
      ]
    },
    {
      "cell_type": "code",
      "metadata": {
        "id": "q3SgKCphkWqp",
        "colab_type": "code",
        "colab": {
          "base_uri": "https://localhost:8080/",
          "height": 85
        },
        "outputId": "a3af7862-e723-4eec-d844-26bccbc02830"
      },
      "source": [
        "! pylint \"prime.py\""
      ],
      "execution_count": 8,
      "outputs": [
        {
          "output_type": "stream",
          "text": [
            "\n",
            "-------------------------------------------------------------------\n",
            "Your code has been rated at 10.00/10 (previous run: 8.75/10, +1.25)\n",
            "\n"
          ],
          "name": "stdout"
        }
      ]
    },
    {
      "cell_type": "code",
      "metadata": {
        "id": "Wr67SZj7kpbq",
        "colab_type": "code",
        "colab": {
          "base_uri": "https://localhost:8080/",
          "height": 34
        },
        "outputId": "bc9c287b-4ab6-4f9a-aaa2-0fcd338724c8"
      },
      "source": [
        "%%writefile primeUnitTest.py\n",
        "\n",
        "import unittest\n",
        "import prime\n",
        "\n",
        "class testPrime(unittest.TestCase):\n",
        "    def testSinglePrime(self):\n",
        "        a = 3\n",
        "        result = prime.is_prime(a)\n",
        "        self.assertEquals(result, \"Prime\")\n",
        "        \n",
        "    def testingDoublePrime(self):\n",
        "        b = 11 \n",
        "        result = prime.is_prime(b)\n",
        "        self.assertEquals(result, \"Prime\")\n",
        "\n",
        "if __name__ == \"__main__\":\n",
        "    unittest.main()"
      ],
      "execution_count": 9,
      "outputs": [
        {
          "output_type": "stream",
          "text": [
            "Writing primeUnitTest.py\n"
          ],
          "name": "stdout"
        }
      ]
    },
    {
      "cell_type": "code",
      "metadata": {
        "id": "gsRA2oQ7kyqf",
        "colab_type": "code",
        "colab": {
          "base_uri": "https://localhost:8080/",
          "height": 102
        },
        "outputId": "9ac9d5b4-85f4-4bbf-81bd-285aef5f360e"
      },
      "source": [
        "! python \"primeUnitTest.py\""
      ],
      "execution_count": 10,
      "outputs": [
        {
          "output_type": "stream",
          "text": [
            "..\n",
            "----------------------------------------------------------------------\n",
            "Ran 2 tests in 0.000s\n",
            "\n",
            "OK\n"
          ],
          "name": "stdout"
        }
      ]
    }
  ]
}