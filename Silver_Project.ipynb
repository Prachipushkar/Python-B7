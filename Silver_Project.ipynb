{
  "nbformat": 4,
  "nbformat_minor": 0,
  "metadata": {
    "colab": {
      "name": "Silver Project.ipynb",
      "provenance": [],
      "authorship_tag": "ABX9TyNmJ2d6k/HhVJ7KJvzdMtJT",
      "include_colab_link": true
    },
    "kernelspec": {
      "name": "python3",
      "display_name": "Python 3"
    }
  },
  "cells": [
    {
      "cell_type": "markdown",
      "metadata": {
        "id": "view-in-github",
        "colab_type": "text"
      },
      "source": [
        "<a href=\"https://colab.research.google.com/github/Prachipushkar/Python-B7/blob/master/Silver_Project.ipynb\" target=\"_parent\"><img src=\"https://colab.research.google.com/assets/colab-badge.svg\" alt=\"Open In Colab\"/></a>"
      ]
    },
    {
      "cell_type": "code",
      "metadata": {
        "id": "Bfj3mAEogh36",
        "colab_type": "code",
        "colab": {}
      },
      "source": [
        "def takeplayerInput():\n",
        "  player = \"blank\"\n",
        "  while not (player.lower() == \"r\" or player.lower() == \"p\" or player.lower() == \"s\"):\n",
        "    player = input(\"Enter the input\")\n",
        "  return player.lower()"
      ],
      "execution_count": 18,
      "outputs": []
    },
    {
      "cell_type": "code",
      "metadata": {
        "id": "mxQuv0b8iR54",
        "colab_type": "code",
        "colab": {}
      },
      "source": [
        "import random\n",
        "def getbotInput():\n",
        "  lst = ['r','s','p']\n",
        "  return random.choice(lst)\n",
        "  "
      ],
      "execution_count": 6,
      "outputs": []
    },
    {
      "cell_type": "code",
      "metadata": {
        "id": "FAjQxS7hix5J",
        "colab_type": "code",
        "colab": {}
      },
      "source": [
        "def checkwinner(player,bot):\n",
        "  if player =='r' and bot =='r':\n",
        "    return \"draw\"\n",
        "  elif player =='r' and bot =='p':\n",
        "    return \"bot\"\n",
        "  elif player =='r' and bot =='s':\n",
        "    return \"player\"\n",
        "  elif player =='p' and bot =='r':\n",
        "    return \"player\"\n",
        "  elif player =='p' and bot =='p':\n",
        "    return \"draw\"\n",
        "  elif player =='p' and bot =='s':\n",
        "    return \"bot\"\n",
        "  elif player =='s' and bot =='r':\n",
        "    return \"bot\"\n",
        "  elif player =='s' and bot =='p':\n",
        "    return \"player\"\n",
        "  elif player =='s' and bot =='s':\n",
        "    return \"draw\"    \n",
        "  else:\n",
        "    return \"draw\"              "
      ],
      "execution_count": 19,
      "outputs": []
    },
    {
      "cell_type": "code",
      "metadata": {
        "id": "sCY1UBTQkG2j",
        "colab_type": "code",
        "colab": {}
      },
      "source": [
        "def rockpaperscissor():\n",
        "  endthegame = \"n\"\n",
        "  player_score = 0\n",
        "  bot_score = 0\n",
        "  while endthegame.lower() != \"y\":\n",
        "    ply = takeplayerInput()\n",
        "    bt = getbotInput()\n",
        "    print('Bot Entered-', bt)\n",
        "    print(\" \")\n",
        "    winner = checkwinner(player = ply, bot = bt)\n",
        "    print(\"Winner is-\", winner)\n",
        "    print(\" \")\n",
        "    if winner == \"player\":\n",
        "      player_score += 2\n",
        "    elif winner == \"bot\":\n",
        "      bot_score += 2\n",
        "    else: \n",
        "      bot_score += 1\n",
        "      player_score += 1\n",
        "\n",
        "    print(\"------score board------\")\n",
        "    print(\"------player-----\",player_score)\n",
        "    print(\"------bot--------\",bot_score)\n",
        "\n",
        "    endthegame = input(\"you want to end Y/N\")"
      ],
      "execution_count": 24,
      "outputs": []
    },
    {
      "cell_type": "code",
      "metadata": {
        "id": "gYI_Eo4orou1",
        "colab_type": "code",
        "colab": {
          "base_uri": "https://localhost:8080/",
          "height": 323
        },
        "outputId": "14c510c3-9b21-4f3b-87db-880731bc87fd"
      },
      "source": [
        "rockpaperscissor()"
      ],
      "execution_count": 25,
      "outputs": [
        {
          "output_type": "stream",
          "text": [
            "Enter the inputp\n",
            "Bot Entered- s\n",
            " \n",
            "Winner is- bot\n",
            " \n",
            "------score board------\n",
            "------player----- 0\n",
            "------bot-------- 2\n",
            "you want to end Y/Nn\n",
            "Enter the inputs\n",
            "Bot Entered- r\n",
            " \n",
            "Winner is- bot\n",
            " \n",
            "------score board------\n",
            "------player----- 0\n",
            "------bot-------- 4\n",
            "you want to end Y/Ny\n"
          ],
          "name": "stdout"
        }
      ]
    }
  ]
}