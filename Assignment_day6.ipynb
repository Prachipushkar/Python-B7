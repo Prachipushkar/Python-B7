{
  "nbformat": 4,
  "nbformat_minor": 0,
  "metadata": {
    "colab": {
      "name": "Assignment day6.ipynb",
      "provenance": [],
      "authorship_tag": "ABX9TyNBqQZ5fWhalr791uqWM7Ob",
      "include_colab_link": true
    },
    "kernelspec": {
      "name": "python3",
      "display_name": "Python 3"
    }
  },
  "cells": [
    {
      "cell_type": "markdown",
      "metadata": {
        "id": "view-in-github",
        "colab_type": "text"
      },
      "source": [
        "<a href=\"https://colab.research.google.com/github/Prachipushkar/Python-B7/blob/master/Assignment_day6.ipynb\" target=\"_parent\"><img src=\"https://colab.research.google.com/assets/colab-badge.svg\" alt=\"Open In Colab\"/></a>"
      ]
    },
    {
      "cell_type": "code",
      "metadata": {
        "id": "_0dx6sOKJlmU",
        "colab_type": "code",
        "colab": {
          "base_uri": "https://localhost:8080/",
          "height": 119
        },
        "outputId": "85b4275b-8a2c-4861-cc43-45c64a81c666"
      },
      "source": [
        "class Account:\n",
        "    \n",
        "    def __init__(self, owner, balance):\n",
        "        self.owner = owner\n",
        "        self.balance = balance\n",
        "    \n",
        "    def __str__(self):\n",
        "        return 'Account owner: {owner}\\nAccount balance: ${balance}'.format(owner=self.owner, balance=self.balance)\n",
        "        \n",
        "    def deposit(self, dp_money):\n",
        "        self.balance += dp_money\n",
        "        print('Deposit Accepted, your balance is {balance}'.format(balance=self.balance))\n",
        "    \n",
        "    def withdraw(self, wd_money):\n",
        "        if wd_money > self.balance:\n",
        "            print('Funds Unavailable!')\n",
        "        else:\n",
        "            self.balance -= wd_money\n",
        "            print('Withdrawal Accepted, your balance is {balance}'.format(balance=self.balance))\n",
        "            \n",
        "acct1 = Account('Prachi',500)\n",
        "print(acct1)\n",
        "\n",
        "acct1.deposit(50)\n",
        "acct1.withdraw(75)\n",
        "acct1.withdraw(100)\n",
        "acct1.withdraw(400)"
      ],
      "execution_count": 4,
      "outputs": [
        {
          "output_type": "stream",
          "text": [
            "Account owner: Prachi\n",
            "Account balance: $500\n",
            "Deposit Accepted, your balance is 550\n",
            "Withdrawal Accepted, your balance is 475\n",
            "Withdrawal Accepted, your balance is 375\n",
            "Funds Unavailable!\n"
          ],
          "name": "stdout"
        }
      ]
    },
    {
      "cell_type": "code",
      "metadata": {
        "id": "09OKK1xLMZzu",
        "colab_type": "code",
        "colab": {
          "base_uri": "https://localhost:8080/",
          "height": 119
        },
        "outputId": "d1b0f0c5-cb6a-49d7-ab8c-e8933ef11fca"
      },
      "source": [
        "# Cone class with 2 attribute\n",
        "import math\n",
        " \n",
        "radius = float(input('Please Enter the Radius of  Cone: '))\n",
        "height = float(input('Please Enter the Height of  Cone: '))\n",
        "l = math.sqrt(radius * radius + height * height)\n",
        "SA = math.pi * radius * (radius + l)\n",
        "Volume = (1.0/3) * math.pi * radius * radius * height\n",
        " \n",
        "print(\"\\n Length of a Side (Slant)of a Cone = %.2f\" %l)\n",
        "print(\" The Surface Area of a Cone = %.2f \" %SA)\n",
        "print(\" The Volume of a Cone = %.2f\" %Volume);"
      ],
      "execution_count": 6,
      "outputs": [
        {
          "output_type": "stream",
          "text": [
            "Please Enter the Radius of  Cone: 10\n",
            "Please Enter the Height of  Cone: 11\n",
            "\n",
            " Length of a Side (Slant)of a Cone = 14.87\n",
            " The Surface Area of a Cone = 781.19 \n",
            " The Volume of a Cone = 1151.92\n"
          ],
          "name": "stdout"
        }
      ]
    }
  ]
}