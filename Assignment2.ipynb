{
  "nbformat": 4,
  "nbformat_minor": 0,
  "metadata": {
    "colab": {
      "name": "Assignment2.ipynb",
      "provenance": [],
      "authorship_tag": "ABX9TyMF29aTcov62aGGl566gbuv",
      "include_colab_link": true
    },
    "kernelspec": {
      "name": "python3",
      "display_name": "Python 3"
    }
  },
  "cells": [
    {
      "cell_type": "markdown",
      "metadata": {
        "id": "view-in-github",
        "colab_type": "text"
      },
      "source": [
        "<a href=\"https://colab.research.google.com/github/Prachipushkar/Python-B7/blob/master/Assignment2.ipynb\" target=\"_parent\"><img src=\"https://colab.research.google.com/assets/colab-badge.svg\" alt=\"Open In Colab\"/></a>"
      ]
    },
    {
      "cell_type": "code",
      "metadata": {
        "id": "WJsvJC_j5lkf",
        "colab_type": "code",
        "colab": {
          "base_uri": "https://localhost:8080/",
          "height": 51
        },
        "outputId": "38a927d2-59b1-41af-ce3c-131d6bdf5b92"
      },
      "source": [
        "Alt = int(input(\" Enter Altitude\"))\n",
        "if Alt <= 1000:\n",
        "  print(\" Safe to Land\")\n",
        "elif Alt <= 5000:\n",
        "  print(\" come down to 1000\") \n",
        "else:\n",
        "  print(\"Turn around\")\n"
      ],
      "execution_count": 8,
      "outputs": [
        {
          "output_type": "stream",
          "text": [
            " Enter Altitude6000\n",
            "Turn around\n"
          ],
          "name": "stdout"
        }
      ]
    },
    {
      "cell_type": "code",
      "metadata": {
        "id": "xQUPUxvtEAWF",
        "colab_type": "code",
        "colab": {
          "base_uri": "https://localhost:8080/",
          "height": 51
        },
        "outputId": "142415e0-3792-4558-983d-96cd7aa309ef"
      },
      "source": [
        "Alt = int(input(\" Enter Altitude\"))\n",
        "if Alt <= 1000:\n",
        "  print(\" Safe to Land\")\n",
        "elif Alt <= 5000:\n",
        "  print(\" come down to 1000\") \n",
        "else:\n",
        "  print(\"Turn around\")"
      ],
      "execution_count": 9,
      "outputs": [
        {
          "output_type": "stream",
          "text": [
            " Enter Altitude1000\n",
            " Safe to Land\n"
          ],
          "name": "stdout"
        }
      ]
    },
    {
      "cell_type": "code",
      "metadata": {
        "id": "U84uhMKfEPJd",
        "colab_type": "code",
        "colab": {
          "base_uri": "https://localhost:8080/",
          "height": 51
        },
        "outputId": "ab4da860-38b5-4dd7-e673-d7a07cf96487"
      },
      "source": [
        "Alt = int(input(\" Enter Altitude\"))\n",
        "if Alt <= 1000:\n",
        "  print(\" Safe to Land\")\n",
        "elif Alt <= 5000:\n",
        "  print(\" come down to 1000\") \n",
        "else:\n",
        "  print(\"Turn around\")"
      ],
      "execution_count": 10,
      "outputs": [
        {
          "output_type": "stream",
          "text": [
            " Enter Altitude4500\n",
            " come down to 1000\n"
          ],
          "name": "stdout"
        }
      ]
    }
  ]
}